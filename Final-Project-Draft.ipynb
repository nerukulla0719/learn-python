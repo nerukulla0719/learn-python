{
 "cells": [
  {
   "cell_type": "markdown",
   "metadata": {},
   "source": [
    "Project1:\n",
    "    **Find PI to the Nth Digit** - Enter a number and have the program generate &pi; (pi) up to that many decimal places. Keep a limit to how far the program will go.\n",
    "    "
   ]
  },
  {
   "cell_type": "code",
   "execution_count": 1,
   "metadata": {},
   "outputs": [],
   "source": [
    "import math\n"
   ]
  },
  {
   "cell_type": "code",
   "execution_count": 23,
   "metadata": {},
   "outputs": [],
   "source": [
    "def pi_nth_digit():\n",
    "    \n",
    "    while True:\n",
    "        digit = int(input(\"Enter digit number for decimal(0-10): \"))\n",
    "        \n",
    "        if digit<100:\n",
    "            break\n",
    "        else:\n",
    "            print(\"choose the correct value.\")\n",
    "            continue\n",
    "    \n",
    "    #pi = round(math.pi,digit) \n",
    "    print('%.*f' %(digit,math.pi))\n",
    "    #return pi"
   ]
  },
  {
   "cell_type": "code",
   "execution_count": 25,
   "metadata": {},
   "outputs": [
    {
     "name": "stdout",
     "output_type": "stream",
     "text": [
      "Enter digit number for decimal(0-10): 99\n",
      "3.141592653589793115997963468544185161590576171875000000000000000000000000000000000000000000000000000\n"
     ]
    }
   ],
   "source": [
    "pi_nth_digit()"
   ]
  },
  {
   "cell_type": "code",
   "execution_count": 28,
   "metadata": {},
   "outputs": [
    {
     "name": "stdout",
     "output_type": "stream",
     "text": [
      "For PI, How many decimal places would you like?49\n",
      "PI = 3.1415926535897931159979634685441851615905761718750\n"
     ]
    }
   ],
   "source": [
    "p=input('For PI, How many decimal places would you like?')\n",
    "b='{:.'+ str(p) + 'f}'\n",
    "print('PI = ' + b.format(math.pi))"
   ]
  },
  {
   "cell_type": "code",
   "execution_count": 33,
   "metadata": {},
   "outputs": [
    {
     "data": {
      "text/plain": [
       "49"
      ]
     },
     "execution_count": 33,
     "metadata": {},
     "output_type": "execute_result"
    }
   ],
   "source": [
    "len('1415926535897931159979634685441851615905761718750')"
   ]
  },
  {
   "cell_type": "code",
   "execution_count": null,
   "metadata": {},
   "outputs": [],
   "source": []
  }
 ],
 "metadata": {
  "kernelspec": {
   "display_name": "Python 3",
   "language": "python",
   "name": "python3"
  },
  "language_info": {
   "codemirror_mode": {
    "name": "ipython",
    "version": 3
   },
   "file_extension": ".py",
   "mimetype": "text/x-python",
   "name": "python",
   "nbconvert_exporter": "python",
   "pygments_lexer": "ipython3",
   "version": "3.8.5"
  }
 },
 "nbformat": 4,
 "nbformat_minor": 4
}
